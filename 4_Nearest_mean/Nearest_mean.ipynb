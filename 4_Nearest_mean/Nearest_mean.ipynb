{
 "cells": [
  {
   "cell_type": "markdown",
   "id": "bedecc37",
   "metadata": {},
   "source": [
    "## Laboratorium 5 - algorytm Najbliższej Średniej (NM)\n",
    "\n",
    "\n",
    "### Opis\n",
    "Celem laboratorium jest implementacja klasyfikatora najbliższej średniej NM (*Nearest Mean*).\n",
    "\n",
    "\n",
    "### Zadanie 1\n",
    "* Wczytaj dane.\n",
    "* Wszystkie poniższe zadania wykonaj dla wszystkich dostępnych klas i wszystkich cech.\n"
   ]
  },
  {
   "cell_type": "code",
   "execution_count": 1,
   "id": "5c95f1d3",
   "metadata": {},
   "outputs": [],
   "source": [
    "import numpy as np\n",
    "with open('./dataset/dataset.npz', 'rb') as f:\n",
    "    data = np.load(f)\n",
    "    train, test = data['train'], data['test']"
   ]
  },
  {
   "cell_type": "markdown",
   "id": "60209851",
   "metadata": {},
   "source": [
    "### Zadanie 2\n",
    "Zaimplementuj klasyfikator najbliższej średniej (NM) z zastosowaniem odległości Euklidesa i wykonaj klasyfikację. Wyświetl wynik klasyfikacji (accuracy)."
   ]
  },
  {
   "cell_type": "code",
   "execution_count": 2,
   "id": "a5178ccf",
   "metadata": {},
   "outputs": [
    {
     "name": "stdout",
     "output_type": "stream",
     "text": [
      "Liczba klas: : 30\n",
      "Dlugosc zbiory treningowego (labels): 2244\n",
      "Dlugosc zbiory treningowego (data): 2244\n",
      "Dlugosc zbiory testowego (labels): 1496\n",
      "Dlugosc zbiory testowego (data): 1496\n"
     ]
    }
   ],
   "source": [
    "#Adjusting data\n",
    "#####################################################\n",
    "import sklearn as skl\n",
    "\n",
    "y_train = train[:,0].copy()\n",
    "x_train = train[:,2:].copy()\n",
    "\n",
    "y_test = test[:,0].copy()\n",
    "x_test = test[:,2:].copy()\n",
    "\n",
    "print(\"Liczba klas: :\", len(np.unique(y_train)))\n",
    "\n",
    "print(\"Dlugosc zbiory treningowego (labels):\",len(y_train))\n",
    "print(\"Dlugosc zbiory treningowego (data):\",len(x_train))\n",
    "\n",
    "print(\"Dlugosc zbiory testowego (labels):\",len(y_test))\n",
    "print(\"Dlugosc zbiory testowego (data):\",len(x_test))\n",
    "\n",
    "\n",
    "\n",
    "    \n"
   ]
  },
  {
   "cell_type": "code",
   "execution_count": 3,
   "id": "95d04750-caeb-483c-93c3-d54c4fe07bae",
   "metadata": {},
   "outputs": [
    {
     "data": {
      "text/plain": [
       "'\\n#Normalize data 0-1\\nfrom sklearn.preprocessing import MinMaxScaler\\nscaler = MinMaxScaler()\\n#Fit on train data\\nscaler.fit(x_train)\\n\\nx_train = scaler.transform(x_train)\\nx_test = scaler.transform(x_test)\\n\\nprint(\"Wartosc min w zbiorze treningowym: \",np.min(x_train))\\nprint(\"Wartosc max w zbiorze treningowym: \",np.max(x_train))\\n\\nprint(\"Wartosc min w zbiorze testowym: \",np.min(x_test))\\nprint(\"Wartosc max w zbiorze testowym: \",np.max(x_test))\\n'"
      ]
     },
     "execution_count": 3,
     "metadata": {},
     "output_type": "execute_result"
    }
   ],
   "source": [
    "\"\"\"\n",
    "#Normalize data 0-1\n",
    "from sklearn.preprocessing import MinMaxScaler\n",
    "scaler = MinMaxScaler()\n",
    "#Fit on train data\n",
    "scaler.fit(x_train)\n",
    "\n",
    "x_train = scaler.transform(x_train)\n",
    "x_test = scaler.transform(x_test)\n",
    "\n",
    "print(\"Wartosc min w zbiorze treningowym: \",np.min(x_train))\n",
    "print(\"Wartosc max w zbiorze treningowym: \",np.max(x_train))\n",
    "\n",
    "print(\"Wartosc min w zbiorze testowym: \",np.min(x_test))\n",
    "print(\"Wartosc max w zbiorze testowym: \",np.max(x_test))\n",
    "\"\"\""
   ]
  },
  {
   "cell_type": "code",
   "execution_count": 4,
   "id": "778f0e15-0a9c-468b-aba2-7bf6a7d91f31",
   "metadata": {},
   "outputs": [],
   "source": [
    "#Definicja NM\n",
    "##############################################################################\n",
    "\n",
    "#Stworzenie centroidow\n",
    "classes = np.unique(y_train)\n",
    "centroids = []\n",
    "\n",
    "for c in classes:\n",
    "    binary_vector = y_train == c\n",
    "    class_centroid = x_train[binary_vector].mean(axis = 0)\n",
    "    centroids.append(class_centroid)\n",
    "\n",
    "\n",
    "#Funkcja nearest_mean\n",
    "def Nearest_Mean(centroids, sample, classes):\n",
    "    distances_to_class = [] \n",
    "    for centroid in centroids:\n",
    "        #Obliczenie dystansu\n",
    "        distance = float(np.linalg.norm(sample - centroid))\n",
    "        distances_to_class.append(distance)\n",
    "        \n",
    "    #Znalezienie najmniejszego dystansu\n",
    "    idx = int(np.argmin(distances_to_class))\n",
    "    chosen_class = classes[idx]\n",
    "        \n",
    "    return chosen_class"
   ]
  },
  {
   "cell_type": "markdown",
   "id": "51fb5ab0-4f36-4d90-a6bd-afa6ab988dc0",
   "metadata": {},
   "source": [
    "Predykcja"
   ]
  },
  {
   "cell_type": "code",
   "execution_count": 5,
   "id": "1f8835b8-ecbc-463a-ab0d-abaed0ca8415",
   "metadata": {},
   "outputs": [
    {
     "name": "stdout",
     "output_type": "stream",
     "text": [
      "Accuracy of test set prediction is: 0.4606\n"
     ]
    }
   ],
   "source": [
    "#Predykcja\n",
    "y_pred = []\n",
    "for sample in x_test:\n",
    "    pred = Nearest_Mean(centroids,sample, classes)\n",
    "    y_pred.append(pred)\n",
    "\n",
    "#To array    \n",
    "y_pred = np.array(y_pred)\n",
    "    \n",
    "\n",
    "acc = skl.metrics.accuracy_score(y_test, y_pred)\n",
    "print(f\"Accuracy of test set prediction is: {acc:.4f}\")"
   ]
  },
  {
   "cell_type": "markdown",
   "id": "78cecb0d",
   "metadata": {},
   "source": [
    "### Zadanie 3\n",
    "Zaimplementuj funkcję, która zwraca macierz kowariancji (*uwaga: biblioteka `numpy` posiada gotową implementację `cov` z którą powinieneś porównać swój wynik*).\n",
    "\n",
    "\\begin{equation*}\n",
    "C = \\frac{1}{n - 1} (X - \\bar X)(X - \\bar X)^T\n",
    "\\end{equation*}\n",
    "\n",
    "gdzie:\n",
    "* $X$ to macierz danych,\n",
    "* $\\bar X$ to wektor średnich wartości cech. \n",
    "\n"
   ]
  },
  {
   "cell_type": "code",
   "execution_count": 6,
   "id": "84154865",
   "metadata": {},
   "outputs": [
    {
     "name": "stdout",
     "output_type": "stream",
     "text": [
      "Covariance matrices are equal: True\n"
     ]
    }
   ],
   "source": [
    "#Funkcja na macierz kowariancji\n",
    "def create_cov_matrix(matrix):\n",
    "    #X - X_mean\n",
    "    matrix_centered = matrix - matrix.mean(axis=0)\n",
    "    \n",
    "    cov = (matrix_centered.T @ matrix_centered) / (matrix.shape[0] - 1)\n",
    "    return cov\n",
    "    \n",
    "\n",
    "#Macierz kowariancji wersja numpy vs wlasna\n",
    "np_cov_matrix = np.cov(x_train, rowvar=False)\n",
    "own_cov_matrix = create_cov_matrix(x_train)\n",
    "\n",
    "equal = np.allclose(np_cov_matrix, own_cov_matrix)\n",
    "\n",
    "print(f\"Covariance matrices are equal: {equal}\")"
   ]
  },
  {
   "cell_type": "markdown",
   "id": "e4e948f9",
   "metadata": {},
   "source": [
    "### Zadanie 4\n",
    "Zaimplementuj klasyfikator najbliższej średniej (NM) z zastosowaniem odległości Mahalanobisa i wykonaj klasyfikację. Wyświetl wynik klasyfikacji (accuracy).\n",
    "\n",
    "\\begin{equation*}\n",
    "D_j = \\sqrt{ (x - \\mu_j)^T S_j^{-1}(x - \\mu_j) },\n",
    "\\end{equation*}\n",
    "\n",
    "gdzie:\n",
    "* $D_j$ to odległość klasyfikowanej próbki od klasy $j$, \n",
    "* $\\mu_j$ to wektor średnich wartości cech dla klasy $j$, \n",
    "* $S_j^{-1}$ to macierz odwrotna do macierzy kowariancji klasy $j$, \n",
    "* a $x$ to klasyfikowana próbka.\n",
    "\n",
    "> Podpowiedź: Do obliczenia macierzy odwrotnej możesz użyć funkcji `linalg.inv` z biblioteki `numpy`.\n",
    "\n",
    "> UWAGA: W niniejszym zadaniu możesz zastosować dowolną strukturę kodu (nie musisz trzymać się struktury z poprzedniego zadania), jednak algorytm NM należy zaimplementować samodzielnie – bez użycia gotowych rozwiązań (np. z biblioteki `scikit-learn`).\n",
    "\n",
    "<span style=\"text-decoration:underline\">Referencje</span>\n",
    "\n",
    "1. Mahalanobis, P C, _On test and measures of group divergence : theoretical formulae_, Journal and Proceedings of Asiatic Society of Bengal (New Series) Vol. 26, pp. 541-588. 1930. (URL: http://library.isical.ac.in:8080/xmlui/bitstream/handle/10263/1639/029.pdf)\n",
    "2. McLachlan, Goeffrey J. _Mahalanobis distance_, Resonance, pp. 20-26. 1999. (URL: https://www.ias.ac.in/article/fulltext/reso/004/06/0020-0026)"
   ]
  },
  {
   "cell_type": "code",
   "execution_count": 7,
   "id": "c5df2ed6",
   "metadata": {},
   "outputs": [],
   "source": [
    "########Mahalonobis\n",
    "#Macierze kowariancji dla każdej klasy\n",
    "cov_matrices = []\n",
    "for c in classes:\n",
    "    binary_vector = y_train == c\n",
    "    cov = create_cov_matrix(x_train[binary_vector])\n",
    "    cov_matrices.append(cov)\n",
    "\n",
    "#Funkcja\n",
    "def Nearest_Mean_Mah(centroids,cov_matrices, sample, classes):\n",
    "    distances_to_class = [] \n",
    "    #Calculate distances\n",
    "    for centroid,cov_matrix in zip(centroids,cov_matrices):\n",
    "        d = sample - centroid\n",
    "        \n",
    "        mah_distance = d.T @ np.linalg.inv(cov_matrix) @ d\n",
    "        mah_distance = np.sqrt(mah_distance)\n",
    "        distances_to_class.append(float(mah_distance))\n",
    "        \n",
    "    #Znalezienie najmniejszego dystansu\n",
    "    idx = int(np.argmin(distances_to_class))\n",
    "    chosen_class = classes[idx]\n",
    "    return chosen_class\n",
    "\n",
    "\n"
   ]
  },
  {
   "cell_type": "code",
   "execution_count": 8,
   "id": "4cc35fd6-2f0d-4ea0-95b2-291ba66d4ab2",
   "metadata": {},
   "outputs": [
    {
     "name": "stdout",
     "output_type": "stream",
     "text": [
      "Accuracy of test set prediction is: 0.5635\n"
     ]
    }
   ],
   "source": [
    "#Predykcja\n",
    "y_pred_mah = []\n",
    "for sample in x_test:\n",
    "    pred = Nearest_Mean_Mah(centroids,cov_matrices, sample, classes)\n",
    "    y_pred_mah.append(pred)\n",
    "\n",
    "#To array    \n",
    "y_pred_mah = np.array(y_pred_mah)\n",
    "\n",
    "acc_mah = skl.metrics.accuracy_score(y_test, y_pred_mah)\n",
    "print(f\"Accuracy of test set prediction is: {acc_mah:.4f}\")"
   ]
  }
 ],
 "metadata": {
  "author": {
   "email": "robert.susik@p.lodz.pl",
   "name": "Robert Susik"
  },
  "kernelspec": {
   "display_name": "Python 3 (ipykernel)",
   "language": "python",
   "name": "python3"
  },
  "language_info": {
   "codemirror_mode": {
    "name": "ipython",
    "version": 3
   },
   "file_extension": ".py",
   "mimetype": "text/x-python",
   "name": "python",
   "nbconvert_exporter": "python",
   "pygments_lexer": "ipython3",
   "version": "3.12.9"
  },
  "toc": {
   "base_numbering": 1,
   "nav_menu": {},
   "number_sections": true,
   "sideBar": true,
   "skip_h1_title": false,
   "title_cell": "Table of Contents",
   "title_sidebar": "Contents",
   "toc_cell": false,
   "toc_position": {},
   "toc_section_display": true,
   "toc_window_display": false
  }
 },
 "nbformat": 4,
 "nbformat_minor": 5
}
