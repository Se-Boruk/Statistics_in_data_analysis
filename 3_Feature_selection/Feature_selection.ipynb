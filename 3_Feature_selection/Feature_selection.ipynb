{
 "cells": [
  {
   "cell_type": "markdown",
   "metadata": {},
   "source": [
    "## Laboratorium 4\n",
    "\n",
    "### Cel ćwiczenia\n",
    "Celem ćwiczenia jest zastosowanie metody selekcji cech w klasyfikacji liści, a następnie przeprowadzenie klasyfikacji za pomocą klasyfikatora *k*NN.\n",
    "Dodatkowo należy wyświetlić wyniki klasyfikacji w postaci macierzy pomyłek.\n",
    "\n",
    "### Zbiór danych\n",
    "\n",
    "Zbiór danych znajduje się w katalogu `dataset/*`. Jest to zmodyfikowany zbiór danych znajdujący się pod adresem: <https://archive.ics.uci.edu/ml/datasets/leaf>.\n",
    "\n",
    "### Przesyłanie zadań\n",
    "\n",
    "Wszystkie pliki należy spakować archiwizatorem **zip** i przesłać za pośrednictwem platformy WIKAMP. Poniżej oczekiwana zawartość archiwum:\n",
    "\n",
    "```\n",
    "+-- 📂 [IMIE.NAZWISKO].zip\n",
    "    +-- 📜 Lab[xx].ipynb\n",
    "    +-- 📂 dataset\n",
    "        +-- 📜 dataset.npz\n",
    "        +-- 📜 ReadMe.pdf\n",
    "```\n",
    "\n",
    "\n",
    "\n",
    "### Zadanie 1\n",
    "\n",
    "* Wybierz 10 pierwszych gatunków liści (będziesz je używać w kolejnych zadaniach) o identyfikatorach: 1, 2, 3, 4, 5, 6, 7, 8, 9, 10.\n",
    "* Znormalizuj dane w zakresie 0-1.\n",
    "\n",
    "### Zadanie 2\n",
    "* Przeprowadź selekcję cech.\n",
    "> Możesz wykorzystać bibliotekę [scikit-learn](https://scikit-learn.org/stable/modules/feature_selection.html) (np. [SelectKBest](https://scikit-learn.org/stable/modules/generated/sklearn.feature_selection.SelectKBest.html#sklearn.feature_selection.SelectKBest)).\n",
    "* Dla każdej liczby cech (1-14) przeprowadz selekcje cech. Nastepnie wykonaj klasyfikacje klasyfikatorem *k*NN i znajdź optymalne *k*.\n",
    "* Wyświetl wykres, gdzie na osi X znajduje się liczba cech, a na osi Y najwyższa osiągnięta dokładność (*accuracy*).\n",
    "* Podaj dla jakiej liczby cech (i dla których cech) oraz dla jakiego *k* osiągnąłeś najlepszy wynik (*accuracy*).\n",
    "\n",
    "### Zadanie 3\n",
    "* Wyświetl tablicę pomyłek.\n",
    "\n",
    "> Podpowiedź: Do wyświetlenia tablicy pomyłek możesz użyć funkcji [`confusion_matrix`](https://scikit-learn.org/stable/modules/generated/sklearn.metrics.confusion_matrix.html) oraz [`ConfusionMatrixDisplay`](https://scikit-learn.org/stable/modules/generated/sklearn.metrics.ConfusionMatrixDisplay.html) z biblioteki `sklearn`.\n",
    "\n",
    "**Pamiętaj, wyniki powinny być czytelnie opisane oraz zaprezentowane graficznie (jeżeli jest taka możliwość).**\n",
    "\n",
    "Przykład czego nie robić (na podstawie tablicy pomyłek):\n",
    "\n",
    "**Źle** (kolumny ani wiersze nie są opisane):\n",
    "```\n",
    "array([[2, 0, 0],\n",
    "       [0, 0, 1],\n",
    "       [1, 0, 2]])\n",
    "```\n",
    "\n"
   ]
  },
  {
   "cell_type": "markdown",
   "metadata": {},
   "source": [
    "#Zadanie 1"
   ]
  },
  {
   "cell_type": "code",
   "execution_count": 2,
   "metadata": {},
   "outputs": [
    {
     "name": "stdout",
     "output_type": "stream",
     "text": [
      "Dlugosc zbiory treningowego (labels): 671\n",
      "Dlugosc zbiory treningowego (data): 671\n",
      "Dlugosc zbiory testowego (labels): 517\n",
      "Dlugosc zbiory testowego (data): 517\n",
      "Wartosc min w zbiorze treningowym:  0.0\n",
      "Wartosc max w zbiorze treningowym:  1.0000000000000002\n",
      "Wartosc min w zbiorze testowym:  -0.15618629851288823\n",
      "Wartosc max w zbiorze testowym:  1.087568483623526\n"
     ]
    }
   ],
   "source": [
    "#Ladowanie danych\n",
    "import numpy as np\n",
    "with open('./dataset/dataset.npz', 'rb') as f:\n",
    "    data = np.load(f)\n",
    "    train, test = data['train'], data['test']\n",
    "    \n",
    "#Create binary vector for given classes    \n",
    "chosen_id = [1, 2, 3, 4, 5, 6, 7, 8, 9, 10]\n",
    "binary_vector_train = np.isin(train[:,0], chosen_id)\n",
    "binary_vector_test = np.isin(test[:,0], chosen_id)\n",
    "\n",
    "#Select only given classes\n",
    "train_new = train[binary_vector_train]\n",
    "test_new = test[binary_vector_test]\n",
    "\n",
    "y_train = train_new[:,0].copy()\n",
    "x_train = train_new[:,2:].copy()\n",
    "\n",
    "y_test = test_new[:,0].copy()\n",
    "x_test = test_new[:,2:].copy()\n",
    "\n",
    "print(\"Dlugosc zbiory treningowego (labels):\",len(y_train))\n",
    "print(\"Dlugosc zbiory treningowego (data):\",len(x_train))\n",
    "\n",
    "print(\"Dlugosc zbiory testowego (labels):\",len(y_test))\n",
    "print(\"Dlugosc zbiory testowego (data):\",len(x_test))\n",
    "\n",
    "#Normalize data 0-1\n",
    "from sklearn.preprocessing import MinMaxScaler\n",
    "scaler = MinMaxScaler()\n",
    "#Fit on train data\n",
    "scaler.fit(x_train)\n",
    "\n",
    "x_train = scaler.transform(x_train)\n",
    "x_test = scaler.transform(x_test)\n",
    "\n",
    "print(\"Wartosc min w zbiorze treningowym: \",np.min(x_train))\n",
    "print(\"Wartosc max w zbiorze treningowym: \",np.max(x_train))\n",
    "\n",
    "print(\"Wartosc min w zbiorze testowym: \",np.min(x_test))\n",
    "print(\"Wartosc max w zbiorze testowym: \",np.max(x_test))"
   ]
  },
  {
   "cell_type": "markdown",
   "metadata": {},
   "source": [
    "#Zadanie 2"
   ]
  },
  {
   "cell_type": "code",
   "execution_count": 19,
   "metadata": {},
   "outputs": [
    {
     "name": "stdout",
     "output_type": "stream",
     "text": [
      "Liczba probek:  671\n",
      "Liczba klas: : 10\n",
      "Liczba cech:  14\n",
      "Analyzing 1 features...\n",
      "Analyzing 2 features...\n",
      "Analyzing 3 features...\n",
      "Analyzing 4 features...\n",
      "Analyzing 5 features...\n",
      "Analyzing 6 features...\n",
      "Analyzing 7 features...\n",
      "Analyzing 8 features...\n",
      "Analyzing 9 features...\n",
      "Analyzing 10 features...\n",
      "Analyzing 11 features...\n",
      "Analyzing 12 features...\n",
      "Analyzing 13 features...\n",
      "Analyzing 14 features...\n"
     ]
    }
   ],
   "source": [
    "print(\"Liczba probek: \",len(y_train))\n",
    "print(\"Liczba klas: :\", len(np.unique(y_train)))\n",
    "print(\"Liczba cech: \",len(x_train[0]))\n",
    "\n",
    "import sklearn as skl\n",
    "from sklearn.neighbors import KNeighborsClassifier\n",
    "from sklearn.feature_selection import SelectKBest\n",
    "\n",
    "def check_best_neighbours_n(x_train,y_train,x_test,y_test):\n",
    "    best_acc = 0\n",
    "    best_k = None\n",
    "    #K nearest is reduced for efficiency from len(x_train) to 1/4 of this value\n",
    "    for k in range(1,len(x_train) //4):\n",
    "        K_nearest = KNeighborsClassifier(n_neighbors=k)\n",
    "        K_nearest.fit(x_train, y_train)\n",
    "        y_pred = K_nearest.predict(x_test)\n",
    "        acc = skl.metrics.accuracy_score(y_test, y_pred)\n",
    "\n",
    "        if acc> best_acc:\n",
    "            best_acc = acc\n",
    "            best_k = k\n",
    "\n",
    "    return best_acc, best_k\n",
    "    \n",
    "score_dict = {}\n",
    "feature_list = []\n",
    "acc_list = []\n",
    "k_list = []\n",
    "feature_idx_list = []\n",
    "for f in range(len(x_train[0])):\n",
    "    print(f\"Analyzing {f+1} features...\") \n",
    "    #Select f best features\n",
    "    selector = SelectKBest(k=f+1)\n",
    "    selector.fit(x_train,y_train)\n",
    "\n",
    "    feature_list.append(f+1) #Append tested f numbers\n",
    "    \n",
    "    \n",
    "    #Take these features for training\n",
    "    x_train_f = selector.transform(x_train)\n",
    "    x_test_f = selector.transform(x_test)\n",
    "\n",
    "    #Binary mask which features got selected\n",
    "    feature_binary = selector.get_support()\n",
    "    feature_indexes = np.where(feature_binary)[0]\n",
    "    feature_indexes = feature_indexes.astype(int).tolist()\n",
    "\n",
    "    \n",
    "    best_acc, best_k = check_best_neighbours_n(x_train = x_train_f,\n",
    "                                               y_train = y_train,\n",
    "                                               x_test = x_test_f,\n",
    "                                               y_test = y_test\n",
    "                                              )\n",
    "    acc_list.append(best_acc)\n",
    "    k_list.append(best_k)\n",
    "    feature_idx_list.append(feature_indexes)\n",
    "\n",
    "score_dict[\"Features_idx\"] = feature_idx_list\n",
    "score_dict[\"Features\"] = feature_list\n",
    "score_dict[\"Best_k\"] = k_list\n",
    "score_dict[\"Accuracy\"] = acc_list\n"
   ]
  },
  {
   "cell_type": "code",
   "execution_count": 20,
   "metadata": {},
   "outputs": [
    {
     "name": "stdout",
     "output_type": "stream",
     "text": [
      "Best acc score: 0.816247582205029\n",
      "Best k neighbours number: 16\n",
      "Best feature number: 6\n",
      "Selected features:  [0, 1, 2, 5, 6, 7]\n"
     ]
    },
    {
     "data": {
      "image/png": "[encoded data removed]",
      "text/plain": [
       "<Figure size 640x480 with 1 Axes>"
      ]
     },
     "metadata": {},
     "output_type": "display_data"
    }
   ],
   "source": [
    "#Wyswielt wykres na podstawie score_dict\n",
    "import matplotlib.pyplot as plt\n",
    "\n",
    "plt.bar(score_dict[\"Features\"],score_dict[\"Accuracy\"])\n",
    "plt.title(\"Accuracy to used feature n plot\")\n",
    "plt.xlabel(\"Feature n\")\n",
    "plt.ylabel(\"Accuracy\")\n",
    "\n",
    "\n",
    "best_score = max(score_dict[\"Accuracy\"])\n",
    "best_idx = score_dict[\"Accuracy\"].index(best_score)\n",
    "best_k = score_dict[\"Best_k\"][best_idx]\n",
    "best_features = score_dict[\"Features\"][best_idx]\n",
    "best_features_idx = score_dict[\"Features_idx\"][best_idx]\n",
    "\n",
    "print(\"Best acc score:\",best_score)\n",
    "print(\"Best k neighbours number:\",best_k)\n",
    "print(\"Best feature number:\",best_features)\n",
    "print(\"Selected features: \", best_features_idx)\n",
    "\n",
    "\n",
    "\n",
    "\n"
   ]
  },
  {
   "cell_type": "code",
   "execution_count": 27,
   "metadata": {},
   "outputs": [
    {
     "data": {
      "text/plain": [
       "(517, 14)"
      ]
     },
     "execution_count": 27,
     "metadata": {},
     "output_type": "execute_result"
    }
   ],
   "source": [
    "\n",
    "x_test.shape"
   ]
  },
  {
   "cell_type": "code",
   "execution_count": 34,
   "metadata": {},
   "outputs": [
    {
     "data": {
      "image/png": "[encoded data removed]",
      "text/plain": [
       "<Figure size 640x480 with 2 Axes>"
      ]
     },
     "metadata": {},
     "output_type": "display_data"
    },
    {
     "name": "stdout",
     "output_type": "stream",
     "text": [
      "Accuracy:  0.816247582205029\n"
     ]
    }
   ],
   "source": [
    "from sklearn.metrics import confusion_matrix\n",
    "from sklearn.metrics import ConfusionMatrixDisplay\n",
    "\n",
    "#Prepare and run classifier\n",
    "k = 16\n",
    "selected_f = [0, 1, 2, 5, 6, 7]\n",
    "K_nearest = KNeighborsClassifier(n_neighbors=k)\n",
    "\n",
    "#Choose only given features\n",
    "x_train_f = x_train[:,selected_f]\n",
    "x_test_f = x_test[:,selected_f]\n",
    "\n",
    "K_nearest.fit(x_train_f, y_train)\n",
    "y_pred = K_nearest.predict(x_test_f)\n",
    "\n",
    "acc = skl.metrics.accuracy_score(y_test, y_pred)\n",
    "\n",
    "#Show cf\n",
    "cm = confusion_matrix(y_test, y_pred)\n",
    "disp = ConfusionMatrixDisplay(confusion_matrix=cm)\n",
    "disp.plot()\n",
    "plt.title(\"Confussion matrix\")\n",
    "plt.show()\n",
    "\n",
    "print(\"Accuracy: \",acc)"
   ]
  }
 ],
 "metadata": {
  "author": {
   "emails": [
    "rsusik@kis.p.lodz.pl"
   ],
   "name": "Robert Susik"
  },
  "kernelspec": {
   "display_name": "Python 3 (ipykernel)",
   "language": "python",
   "name": "python3"
  },
  "language_info": {
   "codemirror_mode": {
    "name": "ipython",
    "version": 3
   },
   "file_extension": ".py",
   "mimetype": "text/x-python",
   "name": "python",
   "nbconvert_exporter": "python",
   "pygments_lexer": "ipython3",
   "version": "3.12.9"
  },
  "toc": {
   "base_numbering": 1,
   "nav_menu": {},
   "number_sections": true,
   "sideBar": true,
   "skip_h1_title": false,
   "title_cell": "Table of Contents",
   "title_sidebar": "Contents",
   "toc_cell": false,
   "toc_position": {},
   "toc_section_display": true,
   "toc_window_display": true
  }
 },
 "nbformat": 4,
 "nbformat_minor": 4
}
