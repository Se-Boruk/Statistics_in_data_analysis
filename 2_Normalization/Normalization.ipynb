{
 "cells": [
  {
   "cell_type": "markdown",
   "metadata": {},
   "source": [
    "## Laboratorium 3\n",
    "\n",
    "### Opis\n",
    "Celem laboratorium jest klasyfikacja liści za pomocą metody *k* najbliższych sąsiadów - *k*NN (*k Nearest Neighbors*) z wykorzystaniem normalizacji.\n",
    "\n",
    "\n",
    "### Zbiór danych\n",
    "\n",
    "Zbiór danych znajduje się w katalogu `dataset/*`. Jest to zmodyfikowany zbiór danych znajdujący się pod adresem: <https://archive.ics.uci.edu/ml/datasets/leaf>.\n",
    "\n",
    "### Przesyłanie zadań\n",
    "\n",
    "Wszystkie pliki należy spakować archiwizatorem **zip** i przesłać za pośrednictwem platformy WIKAMP. Poniżej oczekiwana zawartość archiwum:\n",
    "\n",
    "```\n",
    "+-- 📂 [IMIE.NAZWISKO].zip\n",
    "    +-- 📜 Lab03.ipynb\n",
    "    +-- 📂 dataset\n",
    "        +-- 📜 dataset.npz\n",
    "        +-- 📜 ReadMe.pdf\n",
    "```\n",
    "\n",
    "\n",
    "\n",
    "### Zadanie 1\n",
    "\n",
    "* Wybierz 10 dowolnych gatunków liści (będziesz je używać w kolejnych zadaniach) oraz wszystkie cechy.\n",
    "* Przeprowadź klasyfikację za pomocą klasyfikatora [*k*NN](https://scikit-learn.org/stable/modules/generated/sklearn.neighbors.KNeighborsClassifier.html).\n",
    "* Znajdź optymalne *k*.\n",
    "* Wyświetl najwyższy wynik klasyfikacji (*accuracy*).\n"
   ]
  },
  {
   "cell_type": "code",
   "execution_count": 9,
   "metadata": {},
   "outputs": [
    {
     "name": "stdout",
     "output_type": "stream",
     "text": [
      "Zbior treningowy:\n",
      "Liczba probek:  671\n",
      "Liczba klas: : 10\n",
      "Liczba cech:  14\n",
      "\n",
      "Zbior testowy:\n",
      "Liczba probek:  517\n",
      "Liczba klas: : 10\n",
      "Liczba cech:  14\n"
     ]
    }
   ],
   "source": [
    "import numpy as np\n",
    "import matplotlib.pyplot as plt\n",
    "\n",
    "#Loading data\n",
    "with open('./dataset/dataset.npz', 'rb') as f:\n",
    "    data = np.load(f)\n",
    "    train, test = data['train'], data['test']\n",
    "\n",
    "chosen_leafs = [1,2,3,4,5,6,7,8,9,10]\n",
    "\n",
    "binary_vector_train = np.isin(train[:,0], chosen_leafs)\n",
    "binary_vector_test = np.isin(test[:,0], chosen_leafs)\n",
    "\n",
    "train_new = train[binary_vector_train]\n",
    "test_new = test[binary_vector_test]\n",
    "\n",
    "\"\"\"\n",
    "for i in range(1,11):\n",
    "    class_size = len(train_new[train_new[:,0]==i])\n",
    "    print(f\"Liczba probek klasy {i} wynosi: {class_size}\")\n",
    "\"\"\"\n",
    "print(\"Zbior treningowy:\")\n",
    "#Dla treningowego\n",
    "y_train = train_new[:,0].copy()\n",
    "x_train = train_new[:,2:].copy()\n",
    "print(\"Liczba probek: \",len(y_train))\n",
    "print(\"Liczba klas: :\", len(np.unique(y_train)))\n",
    "print(\"Liczba cech: \",len(x_train[0]))\n",
    "\n",
    "print(\"\\nZbior testowy:\")\n",
    "#Dla testwowego\n",
    "y_test = test_new[:,0].copy()\n",
    "x_test = test_new[:,2:].copy()\n",
    "print(\"Liczba probek: \",len(y_test))\n",
    "print(\"Liczba klas: :\", len(np.unique(y_test)))\n",
    "print(\"Liczba cech: \",len(x_test[0]))\n",
    "\n"
   ]
  },
  {
   "cell_type": "code",
   "execution_count": 10,
   "metadata": {},
   "outputs": [
    {
     "name": "stdout",
     "output_type": "stream",
     "text": [
      "Accuracy for chosen k nearest neighbours (13):  0.7369\n",
      "Best acc:  0.7524\n",
      "Best k neighbours:  9\n"
     ]
    }
   ],
   "source": [
    "#Klasyfikacja KNN\n",
    "import sklearn as skl\n",
    "#Podzial probek na treningowe i testowe za pomoca funkcji scikit train_test_split\n",
    "from sklearn.model_selection import train_test_split\n",
    "#The same random state for the repeatability of scores\n",
    "random_s = 15\n",
    "#Train\n",
    "y_train = train_new[:,0].copy()\n",
    "x_train = train_new[:,2:].copy()\n",
    "\n",
    "#Test\n",
    "y_test = test_new[:,0].copy()\n",
    "x_test = test_new[:,2:].copy()\n",
    "\n",
    "\n",
    "#Zaimportowanie i dopasowanie klasyfikatora przykladowo na 4 najblizszych sasiadach\n",
    "from sklearn.neighbors import KNeighborsClassifier\n",
    "K_nearest = KNeighborsClassifier(n_neighbors=3)\n",
    "K_nearest.fit(x_train, y_train)\n",
    "#Predykcja na podstawie danych testowych\n",
    "y_pred = K_nearest.predict(x_test)\n",
    "acc = skl.metrics.accuracy_score(y_test, y_pred)\n",
    "print(\"Accuracy for chosen k nearest neighbours (13): \",round(acc,4))\n",
    "\n",
    "def check_best_neighbours_n(x_train,y_train,x_test,y_test):\n",
    "    best_acc = 0\n",
    "    best_k = None\n",
    "    for k in range(1,len(x_train)):\n",
    "        K_nearest = KNeighborsClassifier(n_neighbors=k)\n",
    "        K_nearest.fit(x_train, y_train)\n",
    "        y_pred = K_nearest.predict(x_test)\n",
    "        acc = skl.metrics.accuracy_score(y_test, y_pred)\n",
    "\n",
    "        if acc> best_acc:\n",
    "            best_acc = acc\n",
    "            best_k = k\n",
    "\n",
    "    return best_acc, best_k\n",
    "\n",
    "acc, k = check_best_neighbours_n(x_train,y_train,x_test,y_test)\n",
    "\n",
    "print(\"Best acc: \",round(acc,4))\n",
    "print(\"Best k neighbours: \",k)\n",
    "\n",
    "\n"
   ]
  },
  {
   "cell_type": "markdown",
   "metadata": {},
   "source": [
    "### Zadanie 2\n",
    "* Znormalizuj dane w zakresie 0-1. Możesz do tego celu wykorzystać gotową funkcję z biblioteki scikit-learn https://scikit-learn.org/stable/modules/generated/sklearn.preprocessing.MinMaxScaler.html.\n",
    ">    **Ważne: współczynniki powinny być obliczone na zbiorze treningowym i te same powinny zostać zastosowane do normalizacji zbioru testowego.**\n",
    "* Ponownie wykonaj klasyfikację z tymi samymi parametrami (co w zadaniu 1), ale na danych znormalizowanych.\n",
    "* Znajdź optymalne *k*.\n",
    "* Wyświetl wynik w postaci wykresu, gdzie na osi X znajduje się *k*, a na osi Y *accuracy*.\n",
    "* Wyświetl najwyższy wynik klasyfikacji (*accuracy*).\n"
   ]
  },
  {
   "cell_type": "code",
   "execution_count": 11,
   "metadata": {},
   "outputs": [
    {
     "name": "stdout",
     "output_type": "stream",
     "text": [
      "Scikit normalization\n",
      "Min x_train:  0.0\n",
      "Max x_train:  1.0000000000000002\n",
      "Min x_test:  -0.15618629851288823\n",
      "Max x_test:  1.087568483623526\n",
      "Scikit_norm best acc:  0.816247582205029\n",
      "Scikit best k:  14\n",
      "###############################################\n",
      "Own MinMax normalization\n",
      "Min x_train:  0.0\n",
      "Max x_train:  1.0\n",
      "Min x_test:  -0.15618629851288823\n",
      "Max x_test:  1.0875684836235262\n",
      "Own_norm best acc:  0.816247582205029\n",
      "Own_norm best k:  14\n"
     ]
    }
   ],
   "source": [
    "#Zrobic minmaxskaler z scikit learn\n",
    "from sklearn.preprocessing import MinMaxScaler\n",
    "scaler = MinMaxScaler()\n",
    "#Ponowne wywołanie danych w celu mozliwosci ponawiania komorki (cell) wielokrotnie\n",
    "#Train\n",
    "y_train = train_new[:,0].copy()\n",
    "x_train = train_new[:,2:].copy()\n",
    "\n",
    "#Test\n",
    "y_test = test_new[:,0].copy()\n",
    "x_test = test_new[:,2:].copy()\n",
    "\n",
    "#Fit na danych treningowych\n",
    "scaler.fit(x_train)\n",
    "x_train_normalized_skl = scaler.transform(x_train)\n",
    "x_test_normalized_skl = scaler.transform(x_test)\n",
    "\n",
    "print(\"Scikit normalization\")\n",
    "print(\"Min x_train: \",x_train_normalized_skl.min())\n",
    "print(\"Max x_train: \",x_train_normalized_skl.max())\n",
    "print(\"Min x_test: \",x_test_normalized_skl.min())\n",
    "print(\"Max x_test: \",x_test_normalized_skl.max())\n",
    "\n",
    "#Test for normalization by scikitlearn\n",
    "acc_scikit, k_scikit = check_best_neighbours_n(x_train_normalized_skl, y_train, x_test_normalized_skl, y_test)\n",
    "\n",
    "print(\"Scikit_norm best acc: \",acc_scikit)\n",
    "print(\"Scikit best k: \", k_scikit)\n",
    "\n",
    "#Zrobic wlasna normalizacja min max\n",
    "def own_min_max(x_train, x_test):\n",
    "    #Max min per feature (along axis 0 )\n",
    "    x_min = x_train.min(axis=0)\n",
    "    x_max = x_train.max(axis=0)\n",
    "    \n",
    "    #Zakres wartosci\n",
    "    range_values = x_max - x_min\n",
    "    #Zeby nie bylo errora /0\n",
    "    range_values[range_values == 0] = 1\n",
    "    #Normalizacja\n",
    "    x_train_norm = (x_train - x_min) / range_values\n",
    "    x_test_norm = (x_test - x_min) / range_values\n",
    "    \n",
    "    return x_train_norm, x_test_norm\n",
    "    \n",
    "\n",
    "x_train_normalized_own,x_test_normalized_own = own_min_max(x_train,x_test)\n",
    "print(\"###############################################\")\n",
    "print(\"Own MinMax normalization\")\n",
    "print(\"Min x_train: \",x_train_normalized_own.min())\n",
    "print(\"Max x_train: \",x_train_normalized_own.max())\n",
    "print(\"Min x_test: \",x_test_normalized_own.min())\n",
    "print(\"Max x_test: \",x_test_normalized_own.max())\n",
    "\n",
    "acc_own, k_own = check_best_neighbours_n(x_train_normalized_own, y_train, x_test_normalized_own, y_test)\n",
    "print(\"Own_norm best acc: \",acc_scikit)\n",
    "print(\"Own_norm best k: \", k_scikit)\n",
    "\n"
   ]
  },
  {
   "cell_type": "markdown",
   "metadata": {},
   "source": [
    "### Zadanie 3\n",
    "\n",
    "Napisz wnioski"
   ]
  },
  {
   "cell_type": "code",
   "execution_count": null,
   "metadata": {},
   "outputs": [],
   "source": [
    "\"\"\"\n",
    "Normalizacja powoduje zachowanie relacji w obrębie jednej cechy, jendocześnie sprowadzając różne cechy do tego samego zakresu,\n",
    "co pozwala na ich efektywne porównywanie, oraz wyrównanie wpływu cech na wynik gdyby miałe one różne rzędy wielkości.\n",
    "W przeciwnym wypadku algorytm (szczególnie tak podstawowy jak K-nearest neighbours) odczytałby cechę o większej rozpiętości jako mniej istotną, \n",
    "ponieważ cecha znajdowała się dalej niż cecha o mniejszej rozpiętości, mimo że w istocie powinny mieć one ten sam wpływ na predykcje\n",
    "\"\"\""
   ]
  }
 ],
 "metadata": {
  "author": {
   "emails": [
    "rsusik@kis.p.lodz.pl"
   ],
   "name": "Robert Susik"
  },
  "kernelspec": {
   "display_name": "Python 3 (ipykernel)",
   "language": "python",
   "name": "python3"
  },
  "language_info": {
   "codemirror_mode": {
    "name": "ipython",
    "version": 3
   },
   "file_extension": ".py",
   "mimetype": "text/x-python",
   "name": "python",
   "nbconvert_exporter": "python",
   "pygments_lexer": "ipython3",
   "version": "3.12.9"
  },
  "toc": {
   "base_numbering": 1,
   "nav_menu": {},
   "number_sections": true,
   "sideBar": true,
   "skip_h1_title": false,
   "title_cell": "Table of Contents",
   "title_sidebar": "Contents",
   "toc_cell": false,
   "toc_position": {},
   "toc_section_display": true,
   "toc_window_display": true
  }
 },
 "nbformat": 4,
 "nbformat_minor": 4
}
